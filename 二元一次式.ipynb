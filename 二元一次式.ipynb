{
  "nbformat": 4,
  "nbformat_minor": 0,
  "metadata": {
    "colab": {
      "name": "二元一次式.ipynb",
      "provenance": [],
      "toc_visible": true,
      "authorship_tag": "ABX9TyOMhKfvZo5FXb1iriIRM0LN",
      "include_colab_link": true
    },
    "kernelspec": {
      "name": "python3",
      "display_name": "Python 3"
    },
    "language_info": {
      "name": "python"
    }
  },
  "cells": [
    {
      "cell_type": "markdown",
      "metadata": {
        "id": "view-in-github",
        "colab_type": "text"
      },
      "source": [
        "<a href=\"https://colab.research.google.com/github/ray0933/hello-ray/blob/master/%E4%BA%8C%E5%85%83%E4%B8%80%E6%AC%A1%E5%BC%8F.ipynb\" target=\"_parent\"><img src=\"https://colab.research.google.com/assets/colab-badge.svg\" alt=\"Open In Colab\"/></a>"
      ]
    },
    {
      "cell_type": "markdown",
      "metadata": {
        "id": "WbPqwc1mAQVp"
      },
      "source": [
        "#二元一次式的意義、值與化簡"
      ]
    },
    {
      "cell_type": "markdown",
      "metadata": {
        "id": "ju2Q6ZnytFwS"
      },
      "source": [
        "#二元一次式的意義\n",
        ">所謂二元一次是就是如$ax+by+c$的式子，其中$a$是$x$項的係數，$b$是$y$項的係數，$c$是常數項。\n",
        "\n",
        "舉例來說小黃有五元硬幣$x$枚，十元硬幣$y$枚，請問小黃總共有幾元？\n",
        "\n",
        "答：共有$5x+10y$元"
      ]
    },
    {
      "cell_type": "markdown",
      "metadata": {
        "id": "uBaBZJuAAChM"
      },
      "source": [
        "#二元一次式的值\n",
        "舉例來說：\n",
        ">(1) 當$x = 5，y = 2$時，$2x + 5y - 3$的值為多少?\n",
        "\n",
        ">>答：\n",
        "$2\\times 5 + 5\\times 2 - 3 = 17$\n",
        "\n",
        ">(2) 當$x = -5，y = \\frac{7}{3}$時，$2x - 6y + 8$的值為多少?\n",
        "\n",
        ">>答：\n",
        "$2\\times (-5) - 6\\times \\frac{7}{3} + 8 = -16$"
      ]
    },
    {
      "cell_type": "markdown",
      "metadata": {
        "id": "qz5y5FM-DtPi"
      },
      "source": [
        "#二元一次式的化簡\n",
        "##化簡關鍵：二元一次式的加減運算就是合併同類項（註：所謂同類項是指在代數式子中相同字母的項)\n",
        "\n",
        ">(1) $(2x + 5y + 7) + (3x - 2y - 4)=?$\n",
        "\n",
        ">>答：\n",
        "\n",
        ">>$(2x + 5y + 7) + (3x - 2y - 4)$\n",
        "\n",
        ">>$=2x + 5y + 7 + 3x - 2y - 4$\n",
        "\n",
        ">>$=2x + 3x + 5y - 2y + 7  - 4$\n",
        "\n",
        ">>$=5x + 3y + 3$\n",
        "\n",
        ">(2) $(2x + 5y + 7) - (3x - 2y - 4)=?$\n",
        "\n",
        ">>答：\n",
        "\n",
        ">>$(2x + 5y + 7) + (3x - 2y - 4)$\n",
        "\n",
        ">>$=2x + 5y + 7 - 3x + 2y + 4$\n",
        "\n",
        ">>$=2x - 3x + 5y + 2y + 7  + 4$\n",
        "\n",
        ">>$=-x + 7y + 11$"
      ]
    },
    {
      "cell_type": "markdown",
      "metadata": {
        "id": "YjqLnIEqHcWJ"
      },
      "source": [
        ">(3) $-2(-x + 3y + 4) + 5(2x - y + 1)=?$\n",
        "\n",
        ">>答：\n",
        "\n",
        ">>$-2(-x + 3y + 4) + 5(2x - y + 1)$\n",
        "\n",
        ">>$=2x - 6y - 8 + 10x - 5y + 5$\n",
        "\n",
        ">>$=2x + 10x - 6y - 5y - 8 + 5$\n",
        "\n",
        ">>$=12x - 11y - 3$"
      ]
    },
    {
      "cell_type": "markdown",
      "metadata": {
        "id": "RiDZNf8BIe3a"
      },
      "source": [
        ">(4) $-2(-x + 3y + 4) - 5(2x - y + 1)=?$\n",
        "\n",
        ">>答：\n",
        "\n",
        ">>$-2(-x + 3y + 4) + 5(2x - y + 1)$\n",
        "\n",
        ">>$=2x - 6y - 8 - 10x + 5y - 5$\n",
        "\n",
        ">>$=2x - 10x - 6y + 5y - 8 - 5$\n",
        "\n",
        ">>$=-8x - y - 13$"
      ]
    },
    {
      "cell_type": "markdown",
      "metadata": {
        "id": "Y4hH151yIvNY"
      },
      "source": [
        ">(5) $\\frac{3x + y - 2}{5} - \\frac{7x - 2y + 4}{3}=?$\n",
        "\n",
        ">>答：\n",
        "\n",
        ">>$\\frac{3x + y - 2}{5} - \\frac{7x - 2y + 4}{3}$\n",
        "\n",
        ">>$=\\frac{9x + 3y - 6}{15} - \\frac{35x - 10y + 20}{15}$\n",
        "\n",
        ">>$=\\frac{9x + 3y - 6 - 35x + 10y - 20}{15}$\n",
        "\n",
        ">>$=\\frac{-24x + 13y - 26}{15}$"
      ]
    },
    {
      "cell_type": "code",
      "metadata": {
        "colab": {
          "base_uri": "https://localhost:8080/"
        },
        "id": "lb2pBP-4Krh5",
        "outputId": "bcd46273-d970-4884-f580-064779017a81"
      },
      "source": [
        "# 本程式利用numpy array的特性來做二元一次式的運算\n",
        "import numpy as np\n",
        "二元一次式A=np.array([-1, 3, 4]) # 將-x+3y+4的各項係數提出存在numpy的array陣列\n",
        "二元一次式B=np.array([2, -1, 1]) # 將2x-y+1的各項係數提出存在numpy的array陣列\n",
        "結果=-2*二元一次式A+5*二元一次式B # 利用利用numpy array的特性來做二元一次式的運算\n",
        "print(結果) # 印出結果陣列\n",
        "print(\"({0}x)+({1}y)+({2})\".format(結果[0], 結果[1], 結果[2]))"
      ],
      "execution_count": 4,
      "outputs": [
        {
          "output_type": "stream",
          "text": [
            "[ 12 -11  -3]\n",
            "(12x)+(-11y)+(-3)\n"
          ],
          "name": "stdout"
        }
      ]
    },
    {
      "cell_type": "code",
      "metadata": {
        "colab": {
          "base_uri": "https://localhost:8080/"
        },
        "id": "DQFJ6rvvLeMs",
        "outputId": "2ac1c8d7-8a9e-4cde-ea78-717f895846c0"
      },
      "source": [
        "# 本程式利用numpy array的特性來做二元一次式的運算, 並增加“加正號”函數功能，以美化輸出\n",
        "import numpy as np\n",
        "二元一次式A=np.array([-1, 3, 4])\n",
        "二元一次式B=np.array([2, -1, 1])\n",
        "結果=-2*二元一次式A+5*二元一次式B\n",
        "加正號 = lambda i: (\"+\" if i > 0 else \"\") + str(i) # \"加正號”函數功能\n",
        "print(結果) # 印出結果陣列\n",
        "print(\"{0}x {1}y {2}\".format(結果[0], 加正號(結果[1]), 加正號(結果[2])))"
      ],
      "execution_count": 5,
      "outputs": [
        {
          "output_type": "stream",
          "text": [
            "[ 12 -11  -3]\n",
            "12x -11y -3\n"
          ],
          "name": "stdout"
        }
      ]
    }
  ]
}