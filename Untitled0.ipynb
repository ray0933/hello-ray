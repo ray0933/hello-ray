{
  "nbformat": 4,
  "nbformat_minor": 0,
  "metadata": {
    "colab": {
      "name": "Untitled0.ipynb",
      "provenance": [],
      "collapsed_sections": [],
      "authorship_tag": "ABX9TyNfsSnlzrgrpyzuFnxkUXuT",
      "include_colab_link": true
    },
    "kernelspec": {
      "name": "python3",
      "display_name": "Python 3"
    },
    "language_info": {
      "name": "python"
    }
  },
  "cells": [
    {
      "cell_type": "markdown",
      "metadata": {
        "id": "view-in-github",
        "colab_type": "text"
      },
      "source": [
        "<a href=\"https://colab.research.google.com/github/ray0933/hello-ray/blob/master/Untitled0.ipynb\" target=\"_parent\"><img src=\"https://colab.research.google.com/assets/colab-badge.svg\" alt=\"Open In Colab\"/></a>"
      ]
    },
    {
      "cell_type": "markdown",
      "metadata": {
        "id": "suNnohObQFFO"
      },
      "source": [
        "## 何謂 Markdown 標記語言?\n",
        "\n",
        "Colab 有兩種類型的單元格：文本和程式代碼。 文本單元格使用稱為 Markdown 的簡單標記語言進行格式化。\n",
        "\n",
        "要查看 Markdown 文本，請雙擊文本單元格，同時顯示 Markdown 文本和文本渲染後的預視。 Markdown 文本單元格的上方有一個工具欄來輔助編輯。"
      ]
    },
    {
      "cell_type": "markdown",
      "metadata": {
        "id": "Ma5vpcZhFwJn"
      },
      "source": [
        "# Colab筆記本編排標記方法參考\n",
        "\n",
        "# 1. 字體\n",
        "Markdown文本 | 文本預視\n",
        "--- | ---\n",
        "`**粗體字**` | **粗體字**\n",
        "`*斜體字italicized text*` or `_italicized text_` | *斜體字italicized text*\n",
        "`` `等寬字體Monospace` `` | `等寬字體Monospace`\n",
        "`~~刪除橫線strikethrough~~` | ~~刪除橫線strikethrough~~\n",
        "`**粗體字混斜體字This text is _extremely_ important**` | **粗體字混斜體字This text is _extremely_ important**\n",
        "`***粗斜體字All this text is important***` | ***粗斜體字All this text is important***\n",
        "`[A link](https://www.google.com)` | [A link](https://www.google.com)\n",
        "`![An image](https://www.google.com/images/rss.png)` | ![An image](https://www.google.com/images/rss.png)\n",
        "\n"
      ]
    }
  ]
}