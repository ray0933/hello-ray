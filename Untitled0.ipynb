{
  "nbformat": 4,
  "nbformat_minor": 0,
  "metadata": {
    "colab": {
      "name": "Untitled0.ipynb",
      "provenance": [],
      "collapsed_sections": [],
      "authorship_tag": "ABX9TyO1kXHPTUZeK0Lg6qxswNus",
      "include_colab_link": true
    },
    "kernelspec": {
      "name": "python3",
      "display_name": "Python 3"
    },
    "language_info": {
      "name": "python"
    }
  },
  "cells": [
    {
      "cell_type": "markdown",
      "metadata": {
        "id": "view-in-github",
        "colab_type": "text"
      },
      "source": [
        "<a href=\"https://colab.research.google.com/github/ray0933/hello-ray/blob/master/Untitled0.ipynb\" target=\"_parent\"><img src=\"https://colab.research.google.com/assets/colab-badge.svg\" alt=\"Open In Colab\"/></a>"
      ]
    },
    {
      "cell_type": "markdown",
      "metadata": {
        "id": "suNnohObQFFO"
      },
      "source": [
        "## 何謂 Markdown 標記語言?\n",
        "\n",
        "Colab 有兩種類型的單元格：文本和程式代碼。 文本單元格使用稱為 Markdown 的簡單標記語言進行格式化。\n",
        "\n",
        "要查看 Markdown 文本，請雙擊文本單元格，同時顯示 Markdown 文本和文本渲染後的預視。 Markdown 文本單元格的上方有一個工具欄來輔助編輯。"
      ]
    }
  ]
}