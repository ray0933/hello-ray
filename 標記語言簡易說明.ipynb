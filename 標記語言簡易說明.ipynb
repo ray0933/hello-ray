{
  "nbformat": 4,
  "nbformat_minor": 0,
  "metadata": {
    "colab": {
      "name": "標記語言簡易說明.ipynb",
      "provenance": [],
      "collapsed_sections": [],
      "authorship_tag": "ABX9TyMjW2SKuJsMbxd4k0XSCFUl",
      "include_colab_link": true
    },
    "kernelspec": {
      "name": "python3",
      "display_name": "Python 3"
    },
    "language_info": {
      "name": "python"
    }
  },
  "cells": [
    {
      "cell_type": "markdown",
      "metadata": {
        "id": "view-in-github",
        "colab_type": "text"
      },
      "source": [
        "<a href=\"https://colab.research.google.com/github/ray0933/hello-ray/blob/master/%E6%A8%99%E8%A8%98%E8%AA%9E%E8%A8%80%E7%B0%A1%E6%98%93%E8%AA%AA%E6%98%8E.ipynb\" target=\"_parent\"><img src=\"https://colab.research.google.com/assets/colab-badge.svg\" alt=\"Open In Colab\"/></a>"
      ]
    },
    {
      "cell_type": "markdown",
      "metadata": {
        "id": "suNnohObQFFO"
      },
      "source": [
        "## 何謂 Markdown 標記語言?\n",
        "\n",
        "Colab 有兩種類型的單元格：文本和程式代碼。 文本單元格使用稱為 Markdown 的簡單標記語言進行格式化。\n",
        "\n",
        "要查看 Markdown 文本，請雙擊文本單元格，同時顯示 Markdown 文本和文本渲染後的預視。 Markdown 文本單元格的上方有一個工具欄來輔助編輯。"
      ]
    },
    {
      "cell_type": "markdown",
      "metadata": {
        "id": "Ma5vpcZhFwJn"
      },
      "source": [
        "# Colab筆記本編排標記方法參考\n",
        "\n",
        "# 1. 字體\n",
        "Markdown文本 | 文本預視\n",
        "--- | ---\n",
        "`**粗體字**` | **粗體字**\n",
        "`*斜體字italicized text*` or `_italicized text_` | *斜體字italicized text*\n",
        "`` `等寬字體Monospace` `` | `等寬字體Monospace`\n",
        "`~~刪除橫線strikethrough~~` | ~~刪除橫線strikethrough~~\n",
        "`**粗體字混斜體字This text is _extremely_ important**` | **粗體字混斜體字This text is _extremely_ important**\n",
        "`***粗斜體字All this text is important***` | ***粗斜體字All this text is important***\n",
        "`[A link](https://www.google.com)` | [A link](https://www.google.com)\n",
        "`![An image](https://www.google.com/images/rss.png)` | ![An image](https://www.google.com/images/rss.png)\n",
        "\n"
      ]
    },
    {
      "cell_type": "markdown",
      "metadata": {
        "id": "j13xmHAfQ2Op"
      },
      "source": [
        ""
      ]
    },
    {
      "cell_type": "markdown",
      "metadata": {
        "id": "el6JgVnIGMT7"
      },
      "source": [
        "---\n",
        "# 2. 標題與章節的編寫.\n",
        "行的前面加一個\"#\"符號代表章節標題，連續\"##\"符號代表子章節標題，以此類推\n",
        "```markdown\n",
        "# 章節 1\n",
        "# 章節 2\n",
        "## 章節2的子章節\n",
        "### 章節2的子章節的子章節\n",
        "# 章節 3\n",
        "```\n",
        "\n",
        "# 章節 1\n",
        "# 章節 2\n",
        "## 章節2的子章節\n",
        "### 章節2的子章節的子章節\n",
        "# 章節 3\n",
        "\n",
        "\n",
        "##  Colab 左側的目錄最多顯示每個文本單元格中的章節1標題。\n",
        "\n",
        "---"
      ]
    },
    {
      "cell_type": "markdown",
      "metadata": {
        "id": "tJbIWjKqGaox"
      },
      "source": [
        "# 3. 縮排編寫的方法\n",
        "## 行的前面加一個\">\"符號代表縮排一層，連續\">>\"符號代表縮排兩層，以此類推\n",
        "```markdown\n",
        ">縮排一層\n",
        "```\n",
        "\n",
        ">縮排一層\n",
        "\n",
        "\n",
        "```markdown\n",
        ">>縮排兩層\n",
        "```\n",
        "\n",
        ">>縮排兩層\n",
        "\n",
        "---"
      ]
    },
    {
      "cell_type": "markdown",
      "metadata": {
        "id": "3g8PssxFGjqz"
      },
      "source": [
        "# 4. 本文格內描述程式代碼的方法如下所示：\n",
        "要將代碼或文本格式化為程式獨特的文字區塊，請使用三重反引號\"```\"包夾， 我們建議在代碼區塊前後放置一個空行，以使原始格式更易於閱讀。您可以通過在代碼區塊前後放置三個反引號\"````\"來創建受保護的代碼區塊。要在圍欄代碼塊中顯示三重反引號，請將它們包裹在四重反引號中。\n",
        "````\n",
        "```python\n",
        "print(\"a\")\n",
        "```\n",
        "````\n",
        "\n",
        "```python\n",
        "print(\"a\")\n",
        "```\n",
        "\n",
        "您可以添加一個可選的語言標識符，以在受保護的代碼塊中啟用語法中以不同顏色突出顯示。\n",
        "\n",
        "例如，要不同顏色突出顯示 python 語法代碼：\n",
        "\n",
        "```python\n",
        "from sympy.abc import * \n",
        "from sympy import Eq, Sum\n",
        "input(\"Enter your name: \", myname)\n",
        "print(\"I'm {0}\".format(myname))\n",
        "```\n",
        "\n",
        "您可以使用單個反引號在句子中調用程式代碼或命令。 反引號內的文本不會被格式化。\n",
        "```\n",
        "Use `git status` to list all new or modified files that haven't yet been committed.\n",
        "```\n",
        "\n",
        "Use `git status` to list all new or modified files that haven't yet been committed.\n",
        "\n",
        "---"
      ]
    }
  ]
}