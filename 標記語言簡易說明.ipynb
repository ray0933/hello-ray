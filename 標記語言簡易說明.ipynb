{
  "nbformat": 4,
  "nbformat_minor": 0,
  "metadata": {
    "colab": {
      "name": "標記語言簡易說明.ipynb",
      "provenance": [],
      "collapsed_sections": [],
      "authorship_tag": "ABX9TyOwZ0i658Ya6jKlAAtKbm4w",
      "include_colab_link": true
    },
    "kernelspec": {
      "name": "python3",
      "display_name": "Python 3"
    },
    "language_info": {
      "name": "python"
    }
  },
  "cells": [
    {
      "cell_type": "markdown",
      "metadata": {
        "id": "view-in-github",
        "colab_type": "text"
      },
      "source": [
        "<a href=\"https://colab.research.google.com/github/ray0933/hello-ray/blob/master/%E6%A8%99%E8%A8%98%E8%AA%9E%E8%A8%80%E7%B0%A1%E6%98%93%E8%AA%AA%E6%98%8E.ipynb\" target=\"_parent\"><img src=\"https://colab.research.google.com/assets/colab-badge.svg\" alt=\"Open In Colab\"/></a>"
      ]
    },
    {
      "cell_type": "markdown",
      "metadata": {
        "id": "suNnohObQFFO"
      },
      "source": [
        "## 何謂 Markdown 標記語言?\n",
        "\n",
        "Colab 有兩種類型的單元格：文本和程式代碼。 文本單元格使用稱為 Markdown 的簡單標記語言進行格式化。\n",
        "\n",
        "要查看 Markdown 文本，請雙擊文本單元格，同時顯示 Markdown 文本和文本渲染後的預視。 Markdown 文本單元格的上方有一個工具欄來輔助編輯。"
      ]
    },
    {
      "cell_type": "markdown",
      "metadata": {
        "id": "Ma5vpcZhFwJn"
      },
      "source": [
        "# Colab筆記本編排標記方法參考\n",
        "\n",
        "# 1. 字體\n",
        "Markdown文本 | 文本預視\n",
        "--- | ---\n",
        "`**粗體字**` | **粗體字**\n",
        "`*斜體字italicized text*` or `_italicized text_` | *斜體字italicized text*\n",
        "`` `等寬字體Monospace` `` | `等寬字體Monospace`\n",
        "`~~刪除橫線strikethrough~~` | ~~刪除橫線strikethrough~~\n",
        "`**粗體字混斜體字This text is _extremely_ important**` | **粗體字混斜體字This text is _extremely_ important**\n",
        "`***粗斜體字All this text is important***` | ***粗斜體字All this text is important***\n",
        "`[A link](https://www.google.com)` | [A link](https://www.google.com)\n",
        "`![An image](https://www.google.com/images/rss.png)` | ![An image](https://www.google.com/images/rss.png)\n",
        "\n"
      ]
    },
    {
      "cell_type": "markdown",
      "metadata": {
        "id": "j13xmHAfQ2Op"
      },
      "source": [
        ""
      ]
    },
    {
      "cell_type": "markdown",
      "metadata": {
        "id": "el6JgVnIGMT7"
      },
      "source": [
        "---\n",
        "# 2. 標題與章節的編寫.\n",
        "行的前面加一個\"#\"符號代表章節標題，連續\"##\"符號代表子章節標題，以此類推\n",
        "```markdown\n",
        "# 章節 1\n",
        "# 章節 2\n",
        "## 章節2的子章節\n",
        "### 章節2的子章節的子章節\n",
        "# 章節 3\n",
        "```\n",
        "\n",
        "# 章節 1\n",
        "# 章節 2\n",
        "## 章節2的子章節\n",
        "### 章節2的子章節的子章節\n",
        "# 章節 3\n",
        "\n",
        "\n",
        "##  Colab 左側的目錄最多顯示每個文本單元格中的章節1標題。\n",
        "\n",
        "---"
      ]
    },
    {
      "cell_type": "markdown",
      "metadata": {
        "id": "tJbIWjKqGaox"
      },
      "source": [
        "# 3. 縮排編寫的方法\n",
        "## 行的前面加一個\">\"符號代表縮排一層，連續\">>\"符號代表縮排兩層，以此類推\n",
        "```markdown\n",
        ">縮排一層\n",
        "```\n",
        "\n",
        ">縮排一層\n",
        "\n",
        "\n",
        "```markdown\n",
        ">>縮排兩層\n",
        "```\n",
        "\n",
        ">>縮排兩層\n",
        "\n",
        "---"
      ]
    },
    {
      "cell_type": "markdown",
      "metadata": {
        "id": "3g8PssxFGjqz"
      },
      "source": [
        "# 4. 本文格內描述程式代碼的方法如下所示：\n",
        "要將代碼或文本格式化為程式獨特的文字區塊，請使用三重反引號\"```\"包夾， 我們建議在代碼區塊前後放置一個空行，以使原始格式更易於閱讀。您可以通過在代碼區塊前後放置三個反引號\"````\"來創建受保護的代碼區塊。要在圍欄代碼塊中顯示三重反引號，請將它們包裹在四重反引號中。\n",
        "````\n",
        "```python\n",
        "print(\"a\")\n",
        "```\n",
        "````\n",
        "\n",
        "```python\n",
        "print(\"a\")\n",
        "```\n",
        "\n",
        "您可以添加一個可選的語言標識符，以在受保護的代碼塊中啟用語法中以不同顏色突出顯示。\n",
        "\n",
        "例如，要不同顏色突出顯示 python 語法代碼：\n",
        "\n",
        "```python\n",
        "from sympy.abc import * \n",
        "from sympy import Eq, Sum\n",
        "input(\"Enter your name: \", myname)\n",
        "print(\"I'm {0}\".format(myname))\n",
        "```\n",
        "\n",
        "您可以使用單個反引號在句子中調用程式代碼或命令。 反引號內的文本不會被格式化。\n",
        "```\n",
        "Use `git status` to list all new or modified files that haven't yet been committed.\n",
        "```\n",
        "\n",
        "Use `git status` to list all new or modified files that haven't yet been committed.\n",
        "\n",
        "---"
      ]
    },
    {
      "cell_type": "markdown",
      "metadata": {
        "id": "UvvmSxMdGueS"
      },
      "source": [
        "# 5. 項目\n",
        "## 編號項目（Ordered lists）:\n",
        ">## 行的前面加一個\"1.\"代表編號項目\n",
        "```markdown\n",
        "1. One\n",
        "1. Two\n",
        "1. Three\n",
        "```\n",
        "1. One\n",
        "1. Two\n",
        "1. Three\n",
        "\n",
        "---\n",
        "\n",
        "## ㄧ般非編號項目（Unordered lists）:\n",
        ">## 行的前面加一個\"*\"代表ㄧ般非編號項目\n",
        "```markdown\n",
        "* One\n",
        "* Two\n",
        "* Three\n",
        "```\n",
        "* One\n",
        "* Two\n",
        "* Three\n",
        "\n",
        "## 6. 巢狀項目\n",
        "要使用 Colab 上的 Web 編輯器或使用的文本編輯器創建巢狀項目，您可以視覺直觀地對齊項目。在巢狀項目前鍵入空格字符，直到列表標記字符（- 或 *）位於其上方項目中第一個字符的正下方。\n",
        "* `apple`\n",
        "   * item1\n",
        "   * item2\n",
        "        * item1\n",
        "        * item2\n",
        "---"
      ]
    },
    {
      "cell_type": "markdown",
      "metadata": {
        "id": "lyyEVl5etL3E"
      },
      "source": [
        "# 7. 數學式子（Equations）的編寫方法:\n",
        "\n",
        "很多數學符號在鍵盤上是無法敲出來的，所以需要特殊的標記語法，以下列舉如何在筆記本上寫出一些數學符號的標記語法。\n",
        "\n",
        "| 數學式 | 標記語法 | 螢幕顯示 |\n",
        "| :---:         |     :---:      |  :---: |\n",
        "| 分數(fraction)   | \\frac{1}{5}     | $\\frac{1}{5}$    |\n",
        "| 開根號(square root)     | \\sqrt(5)       | $\\sqrt(5)$ |\n",
        "| 乘號     |  50 apples \\times 100 apples    | $50 apples \\times 100 apples$ |\n",
        "| 指數     | x^2 , n^{20}     | $x^2$, $n^{20}$|\n",
        "| 下標     | x_1 , x_{12}      | $x_1$, $x_{12}$ |\n",
        "| 小於等於(less equal)     | \\leq     | $\\leq$ |\n",
        "| 大於等於(greater equal)     | \\geq     | $\\geq$ |\n",
        "| 不等於(not equal)     | \\neq     | $\\neq$ |\n",
        "| 正負號(Plus and minus signs)     | \\pm{5}     | $\\pm{5}$ |\n",
        "| 圓周率($\\pi$)     | \\pi     | $\\pi$ |\n",
        "| 分數開根號 |\\sqrt{\\frac{a}{b}}|$\\sqrt{\\frac{a}{b}}$|\n",
        "| 左右刮號大小自動調整 |\\left(\\frac{x^2}{y^3}\\right)|$\\left(\\frac{x^2}{y^3}\\right)$|\n",
        "\n",
        "---\n",
        "* 更多的數學符號請參考 [數學標記語言 LaTex mathematics for equations](https://en.wikibooks.org/wiki/LaTeX/Mathematics)\n",
        "---\n"
      ]
    },
    {
      "cell_type": "markdown",
      "metadata": {
        "id": "Lhfnlq1Surtk"
      },
      "source": [
        "\n",
        "\n",
        "更多範例\n",
        "\n",
        "```markdown\n",
        "$y=x^2$\n",
        "```\n",
        "$y=x^2$\n",
        "\n",
        "```markdown\n",
        "$e^{i\\pi} + 1 = 0$\n",
        "```\n",
        "$e^{i\\pi} + 1 = 0$\n",
        "\n",
        "```markdown\n",
        "$e^x=\\sum_{i=0}^\\infty \\frac{1}{i!}x^i$\n",
        "```\n",
        "$e^x=\\sum_{i=0}^\\infty \\frac{1}{i!}x^i$\n",
        "\n",
        "```markdown\n",
        "$\\frac{n!}{k!(n-k)!} = {n \\choose k}$\n",
        "```\n",
        "$\\frac{n!}{k!(n-k)!} = {n \\choose k}$\n",
        "\n",
        "```markdown\n",
        "$e^x=\\sum_{i=0}^\\infty \\frac{1}{i!}x^i$\n",
        "```\n",
        "$e^x=\\sum_{i=0}^\\infty \\frac{1}{i!}x^i$\n",
        "\n",
        "```markdown\n",
        "$\\frac{n!}{k!(n-k)!} = {n \\choose k}$\n",
        "```\n",
        "$\\frac{n!}{k!(n-k)!} = {n \\choose k}$\n",
        "\n",
        "```markdown\n",
        "$A_{m,n} =\n",
        " \\begin{pmatrix}\n",
        "  a_{1,1} & a_{1,2} & \\cdots & a_{1,n} \\\\\n",
        "  a_{2,1} & a_{2,2} & \\cdots & a_{2,n} \\\\\n",
        "  \\vdots  & \\vdots  & \\ddots & \\vdots  \\\\\n",
        "  a_{m,1} & a_{m,2} & \\cdots & a_{m,n}\n",
        " \\end{pmatrix}$\n",
        "```\n",
        "$A_{m,n} =\n",
        " \\begin{pmatrix}\n",
        "  a_{1,1} & a_{1,2} & \\cdots & a_{1,n} \\\\\n",
        "  a_{2,1} & a_{2,2} & \\cdots & a_{2,n} \\\\\n",
        "  \\vdots  & \\vdots  & \\ddots & \\vdots  \\\\\n",
        "  a_{m,1} & a_{m,2} & \\cdots & a_{m,n}\n",
        " \\end{pmatrix}$\n",
        "\n",
        "```markdown\n",
        "$$ f(n) =\n",
        "  \\begin{cases}\n",
        "    n/2       & \\quad \\text{if } n \\text{ is even}\\\\\n",
        "    -(n+1)/2  & \\quad \\text{if } n \\text{ is odd}\n",
        "  \\end{cases}\n",
        "$$\n",
        "```\n",
        "$$ f(n) =\n",
        "  \\begin{cases}\n",
        "    n/2       & \\quad \\text{if } n \\text{ is even}\\\\\n",
        "    -(n+1)/2  & \\quad \\text{if } n \\text{ is odd}\n",
        "  \\end{cases}\n",
        "$$\n",
        "\n",
        "\n",
        " ---\n",
        "* 數學標記語言 Latex [LaTex mathematics for equations](https://en.wikibooks.org/wiki/LaTeX/Mathematics)\n",
        "---\n"
      ]
    }
  ]
}