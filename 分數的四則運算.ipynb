{
  "nbformat": 4,
  "nbformat_minor": 0,
  "metadata": {
    "colab": {
      "name": "分數的四則運算.ipynb",
      "provenance": [],
      "authorship_tag": "ABX9TyOuDCNAsC6xbk5XRim1DGPQ",
      "include_colab_link": true
    },
    "kernelspec": {
      "name": "python3",
      "display_name": "Python 3"
    },
    "language_info": {
      "name": "python"
    }
  },
  "cells": [
    {
      "cell_type": "markdown",
      "metadata": {
        "id": "view-in-github",
        "colab_type": "text"
      },
      "source": [
        "<a href=\"https://colab.research.google.com/github/ray0933/hello-ray/blob/master/%E5%88%86%E6%95%B8%E7%9A%84%E5%9B%9B%E5%89%87%E9%81%8B%E7%AE%97.ipynb\" target=\"_parent\"><img src=\"https://colab.research.google.com/assets/colab-badge.svg\" alt=\"Open In Colab\"/></a>"
      ]
    },
    {
      "cell_type": "markdown",
      "metadata": {
        "id": "F6VPuYw-fSrW"
      },
      "source": [
        "分數的四則運算\n",
        "# 範例.\n",
        ">甲、乙、丙三段繩子,甲繩長 $1\\frac{1}{2}$公尺,乙繩長 $1\\frac{1}{5}$公尺,丙繩長比乙繩長短$\\frac{1}{10}$ 公尺, 請問甲、乙、丙三段繩子共長多少公尺?\n",
        "---"
      ]
    },
    {
      "cell_type": "markdown",
      "metadata": {
        "id": "z4vM0eu9uJPN"
      },
      "source": [
        "# 解題：\n",
        "\n",
        "丙的繩長 = $1\\frac{1}{5} - \\frac{1}{10} = 1\\frac{1}{10} $\n",
        "\n",
        "甲、乙、丙三段繩子共長 $$ =  1\\frac{1}{2}+1\\frac{1}{5}+1\\frac{1}{10}$$\n",
        "分母通分\n",
        "$$ =  1\\frac{5}{10}+1\\frac{2}{10}+1\\frac{1}{10}$$\n",
        "$$ =  3\\frac{5+2+1}{10}$$\n",
        "$$ =  3\\frac{8}{10}$$\n",
        "$$ =  3\\frac{4}{5}$$\n",
        "\n"
      ]
    },
    {
      "cell_type": "code",
      "metadata": {
        "colab": {
          "base_uri": "https://localhost:8080/"
        },
        "id": "tlFVva2h7ce2",
        "outputId": "29338291-600a-4701-9acc-35f812561086"
      },
      "source": [
        "甲繩長度 = (1+1/2)\n",
        "乙繩長度 = (1+1/5)\n",
        "丙繩長度 = 乙繩長度-(1/10)\n",
        "print(\"甲、乙、丙三段繩子共長:\", 甲繩長度+乙繩長度+丙繩長度)"
      ],
      "execution_count": null,
      "outputs": [
        {
          "output_type": "stream",
          "text": [
            "甲、乙、丙三段繩子共長: 3.8\n"
          ],
          "name": "stdout"
        }
      ]
    },
    {
      "cell_type": "markdown",
      "metadata": {
        "id": "lJd5tPPZ9K0J"
      },
      "source": [
        "---\n",
        "# 練習題.\n",
        ">一農夫的果園面積 $3\\frac{3}{5}$公畝,其中果園面積的 $\\frac{3}{8}$用來種橘子,其餘面積用來種芒果,請問種芒果的面積比種橘子的面積多幾公畝?"
      ]
    }
  ]
}