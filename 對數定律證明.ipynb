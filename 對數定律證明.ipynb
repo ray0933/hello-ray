{
  "nbformat": 4,
  "nbformat_minor": 0,
  "metadata": {
    "colab": {
      "name": "對數定律證明.ipynb",
      "provenance": [],
      "toc_visible": true,
      "authorship_tag": "ABX9TyOg1MTPoFCcudqbSYGw/lao",
      "include_colab_link": true
    },
    "kernelspec": {
      "name": "python3",
      "display_name": "Python 3"
    },
    "language_info": {
      "name": "python"
    }
  },
  "cells": [
    {
      "cell_type": "markdown",
      "metadata": {
        "id": "view-in-github",
        "colab_type": "text"
      },
      "source": [
        "<a href=\"https://colab.research.google.com/github/ray0933/hello-ray/blob/master/%E5%B0%8D%E6%95%B8%E5%AE%9A%E5%BE%8B%E8%AD%89%E6%98%8E.ipynb\" target=\"_parent\"><img src=\"https://colab.research.google.com/assets/colab-badge.svg\" alt=\"Open In Colab\"/></a>"
      ]
    },
    {
      "cell_type": "markdown",
      "metadata": {
        "id": "RN1qyRbjUEqR"
      },
      "source": [
        "#對數定律的證明"
      ]
    },
    {
      "cell_type": "markdown",
      "metadata": {
        "id": "KxBAHW81exIM"
      },
      "source": [
        "\n",
        "\n",
        "#對數定律(1)$log_c{A}+log_c{B}=log_c{AB}$\n",
        "\n",
        "證明：\n",
        "\n",
        "令$log_c{A}=x$ ,$log_c{B}=y$ \n",
        "\n",
        "接著將對數換成指數\n",
        "\n",
        "$A=c^x, B=c^y$\n",
        "\n",
        "將上兩式相乘得$AB=c^x \\cdot c^y=c^{x+y}$\n",
        "\n",
        "等式兩邊同取$log_c$得\n",
        "\n",
        "$log_c{AB}=log_c{c^{x+y}}=x+y=log_c{A}+log_c{B}$"
      ]
    },
    {
      "cell_type": "markdown",
      "metadata": {
        "id": "Dw_B-OgDi5Zu"
      },
      "source": [
        "#對數定律(2)$log_c{A}-log_c{B}=log_c{\\frac{A}{B}}$\n",
        "\n",
        "證明：\n",
        "\n",
        "令$log_c{A}=x$ ,$log_c{B}=y$ \n",
        "\n",
        "接著將對數換成指數\n",
        "\n",
        "$A=c^x, B=c^y$\n",
        "\n",
        "將上兩式相除得$\\frac{A}{B}=\\frac{c^x}{c^y}=c^{x-y}$\n",
        "\n",
        "等式兩邊同取$log_c$得\n",
        "\n",
        "$log_c\\frac{A}{B}=log_c{c^{x-y}}=x-y=log_c{A}-log_c{B}$"
      ]
    },
    {
      "cell_type": "markdown",
      "metadata": {
        "id": "dxv918m8jOAn"
      },
      "source": [
        "#對數定律(3)$log_{A^m}{B^n}=\\frac{n}{m}log_A{B}$"
      ]
    },
    {
      "cell_type": "markdown",
      "metadata": {
        "id": "UfQaDcMuj0Q-"
      },
      "source": [
        "#對數定律(4)$log_{A}{B}=\\frac{log_c{B}}{log_c{A}}$"
      ]
    },
    {
      "cell_type": "markdown",
      "metadata": {
        "id": "F2VSoBrTRyIi"
      },
      "source": [
        "#對數定律(5)$A^{log_{B}{C}}=C^{log_{B}{A}}$"
      ]
    },
    {
      "cell_type": "markdown",
      "metadata": {
        "id": "aelHhB32SR4g"
      },
      "source": [
        "#對數定律(6)$log_A{B}\\times log_B{C}=log_A{C}$"
      ]
    },
    {
      "cell_type": "markdown",
      "metadata": {
        "id": "Ib2pEbxvUOen"
      },
      "source": [
        "[參考影片：高中_數學_對數_對數定律證明 by【講師】交通大學 張方綺](https://www.youtube.com/watch?v=BPCZt8INWMM)"
      ]
    }
  ]
}