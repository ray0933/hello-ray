{
  "nbformat": 4,
  "nbformat_minor": 0,
  "metadata": {
    "colab": {
      "name": "「「Colab 筆記本 Markdown 標記語言簡易說明（繁中版）」」的副本",
      "provenance": [],
      "collapsed_sections": [],
      "include_colab_link": true
    },
    "kernelspec": {
      "display_name": "Python 3",
      "name": "python3"
    }
  },
  "cells": [
    {
      "cell_type": "markdown",
      "metadata": {
        "id": "view-in-github",
        "colab_type": "text"
      },
      "source": [
        "<a href=\"https://colab.research.google.com/github/ray0933/hello-ray/blob/master/%E3%80%8C%E3%80%8CColab_%E7%AD%86%E8%A8%98%E6%9C%AC_Markdown_%E6%A8%99%E8%A8%98%E8%AA%9E%E8%A8%80%E7%B0%A1%E6%98%93%E8%AA%AA%E6%98%8E%EF%BC%88%E7%B9%81%E4%B8%AD%E7%89%88%EF%BC%89%E3%80%8D%E3%80%8D%E7%9A%84%E5%89%AF%E6%9C%AC.ipynb\" target=\"_parent\"><img src=\"https://colab.research.google.com/assets/colab-badge.svg\" alt=\"Open In Colab\"/></a>"
      ]
    },
    {
      "cell_type": "markdown",
      "metadata": {
        "id": "70pYkR9LiOV0"
      },
      "source": [
        "## 何謂 Markdown 標記語言?\n",
        "\n",
        "Colab 有兩種類型的單元格：文本和程式代碼。 文本單元格使用稱為 Markdown 的簡單標記語言進行格式化。\n",
        "\n",
        "要查看 Markdown 文本，請雙擊文本單元格，同時顯示 Markdown 文本和文本渲染後的預視。 Markdown 文本單元格的上方有一個工具欄來輔助編輯。"
      ]
    }
  ]
}