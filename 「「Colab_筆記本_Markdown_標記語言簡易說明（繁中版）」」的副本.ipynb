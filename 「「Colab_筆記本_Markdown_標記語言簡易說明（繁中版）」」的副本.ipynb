{
  "nbformat": 4,
  "nbformat_minor": 0,
  "metadata": {
    "colab": {
      "name": "「「Colab 筆記本 Markdown 標記語言簡易說明（繁中版）」」的副本",
      "provenance": [],
      "collapsed_sections": []
    },
    "kernelspec": {
      "display_name": "Python 3",
      "name": "python3"
    }
  },
  "cells": []
}