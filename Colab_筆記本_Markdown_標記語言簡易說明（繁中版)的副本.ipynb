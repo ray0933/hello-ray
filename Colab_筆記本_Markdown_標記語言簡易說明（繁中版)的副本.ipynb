{
  "nbformat": 4,
  "nbformat_minor": 0,
  "metadata": {
    "colab": {
      "name": "Colab 筆記本 Markdown 標記語言簡易說明（繁中版)的副本",
      "provenance": [],
      "collapsed_sections": [],
      "include_colab_link": true
    },
    "kernelspec": {
      "display_name": "Python 3",
      "name": "python3"
    }
  },
  "cells": [
    {
      "cell_type": "markdown",
      "metadata": {
        "id": "view-in-github",
        "colab_type": "text"
      },
      "source": [
        "<a href=\"https://colab.research.google.com/github/ray0933/hello-ray/blob/master/Colab_%E7%AD%86%E8%A8%98%E6%9C%AC_Markdown_%E6%A8%99%E8%A8%98%E8%AA%9E%E8%A8%80%E7%B0%A1%E6%98%93%E8%AA%AA%E6%98%8E%EF%BC%88%E7%B9%81%E4%B8%AD%E7%89%88)%E7%9A%84%E5%89%AF%E6%9C%AC.ipynb\" target=\"_parent\"><img src=\"https://colab.research.google.com/assets/colab-badge.svg\" alt=\"Open In Colab\"/></a>"
      ]
    }
  ]
}